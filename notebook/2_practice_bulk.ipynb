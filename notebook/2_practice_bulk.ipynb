{
 "cells": [
  {
   "cell_type": "code",
   "execution_count": null,
   "id": "5aa918da-b18c-4703-b085-66805c9130ee",
   "metadata": {},
   "outputs": [],
   "source": [
    "library(dplyr)\n",
    "library(DESeq2)\n",
    "library(sva)\n",
    "library(RColorBrewer)\n",
    "library(pheatmap)\n",
    "library(stringr)\n",
    "library(EnhancedVolcano)\n"
   ]
  },
  {
   "cell_type": "code",
   "execution_count": 18,
   "id": "9f4dacef-780f-405a-9af4-58a01b80a912",
   "metadata": {},
   "outputs": [],
   "source": [
    "load('../data/bulk/spleen_expression.rda')\n",
    "meta = read.table('../data/bulk/meta.tsv', header=T, row.names = 1)\n",
    "expression = expression[,intersect(colnames(expression), rownames(meta))]\n",
    "meta = meta[intersect(colnames(expression), rownames(meta)),]"
   ]
  }
 ],
 "metadata": {
  "kernelspec": {
   "display_name": "R",
   "language": "R",
   "name": "ir"
  },
  "language_info": {
   "codemirror_mode": "r",
   "file_extension": ".r",
   "mimetype": "text/x-r-source",
   "name": "R",
   "pygments_lexer": "r",
   "version": "4.3.3"
  }
 },
 "nbformat": 4,
 "nbformat_minor": 5
}
