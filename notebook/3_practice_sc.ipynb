{
 "cells": [
  {
   "cell_type": "code",
   "execution_count": 1,
   "id": "b0ca0b6e-faad-44d2-a675-a086f2d617ea",
   "metadata": {},
   "outputs": [],
   "source": [
    "import scanpy as sc\n",
    "import pandas as pd\n",
    "import numpy as np\n",
    "import matplotlib.pyplot as plt\n",
    "import seaborn as sns\n",
    "import scanpy.external as sce\n",
    "import scvi"
   ]
  },
  {
   "cell_type": "code",
   "execution_count": 3,
   "id": "97e8e1c1-4c26-44d7-86a9-0db9236c6b84",
   "metadata": {},
   "outputs": [],
   "source": [
    "combo = sc.read_h5ad('../data/sc/combo.h5ad')\n",
    "GSE = sc.read_10x_mtx('../data/sc/GSE226488/')"
   ]
  },
  {
   "cell_type": "code",
   "execution_count": 4,
   "id": "c6d62317-1007-4c2d-8991-413f3051b65c",
   "metadata": {},
   "outputs": [
    {
     "data": {
      "text/plain": [
       "AnnData object with n_obs × n_vars = 3942 × 36601\n",
       "    var: 'gene_ids', 'feature_types'"
      ]
     },
     "execution_count": 4,
     "metadata": {},
     "output_type": "execute_result"
    }
   ],
   "source": [
    "GSE"
   ]
  }
 ],
 "metadata": {
  "kernelspec": {
   "display_name": "Python 3 (ipykernel)",
   "language": "python",
   "name": "python3"
  },
  "language_info": {
   "codemirror_mode": {
    "name": "ipython",
    "version": 3
   },
   "file_extension": ".py",
   "mimetype": "text/x-python",
   "name": "python",
   "nbconvert_exporter": "python",
   "pygments_lexer": "ipython3",
   "version": "3.10.15"
  }
 },
 "nbformat": 4,
 "nbformat_minor": 5
}
